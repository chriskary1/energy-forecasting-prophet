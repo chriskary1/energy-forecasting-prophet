import pandas as pd
from prophet import Prophet
import matplotlib.pyplot as plt

# Φόρτωση δεδομένων
df = pd.read_csv('AEP_hourly.csv')

# Προετοιμασία δεδομένων για Prophet
# Prophet expects columns: ds (date), y (target)
df['ds'] = pd.to_datetime(df['Date'])
df['y'] = df['Consumption_kWh']

# Δημιουργία και εκπαίδευση μοντέλου Prophet
model = Prophet()
model.fit(df[['ds', 'y']])

# Δημιουργία μελλοντικού dataframe για προβλέψεις
future = model.make_future_dataframe(periods=30)  # Πρόβλεψη για 30 μέρες

# Πρόβλεψη
forecast = model.predict(future)

# Οπτικοποίηση
model.plot(forecast)
plt.title('Energy Consumption Forecast')
plt.xlabel('Date')
plt.ylabel('Consumption (kWh)')
plt.show()

# Προαιρετικά: Save forecast to CSV
forecast[['ds', 'yhat', 'yhat_lower', 'yhat_upper']].to_csv('energy_forecast.csv', index=False)
