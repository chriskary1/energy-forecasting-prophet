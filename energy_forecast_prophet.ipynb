{
  "nbformat": 4,
  "nbformat_minor": 0,
  "metadata": {
    "colab": {
      "provenance": [],
      "authorship_tag": "ABX9TyMg6oLzIFeN0mKh9M2uvw+u",
      "include_colab_link": true
    },
    "kernelspec": {
      "name": "python3",
      "display_name": "Python 3"
    },
    "language_info": {
      "name": "python"
    }
  },
  "cells": [
    {
      "cell_type": "markdown",
      "metadata": {
        "id": "view-in-github",
        "colab_type": "text"
      },
      "source": [
        "<a href=\"https://colab.research.google.com/github/chriskary1/energy-forecasting-prophet/blob/main/energy_forecast_prophet.ipynb\" target=\"_parent\"><img src=\"https://colab.research.google.com/assets/colab-badge.svg\" alt=\"Open In Colab\"/></a>"
      ]
    },
    {
      "cell_type": "code",
      "execution_count": null,
      "metadata": {
        "id": "iNGmAeLVFOoS"
      },
      "outputs": [],
      "source": [
        "import pandas as pd\n",
        "from prophet import Prophet\n",
        "\n",
        "df = pd.read_csv('AEP_hourly.csv')\n",
        "\n",
        "\n",
        "df=df[['Datetime','AEP_MW']]\n",
        "\n",
        "df.columns = ['ds', 'y']\n",
        "df['ds'] = pd.to_datetime(df['ds'])\n",
        "\n",
        "\n",
        "df.info()\n",
        "\n",
        "\n",
        "m = Prophet()\n",
        "m.fit(df)\n",
        "\n",
        "future = m.make_future_dataframe(periods=365)\n",
        "future.tail()\n",
        "\n",
        "forecast = m.predict(future)\n",
        "forecast[['ds', 'yhat', 'yhat_lower', 'yhat_upper']].tail()\n",
        "\n"
      ]
    },
    {
      "cell_type": "code",
      "source": [
        "from prophet.plot import plot_plotly, plot_components_plotly\n",
        "plot_plotly(m, forecast)\n",
        "\n"
      ],
      "metadata": {
        "id": "0VEKvj4PHe42"
      },
      "execution_count": null,
      "outputs": []
    },
    {
      "cell_type": "code",
      "source": [
        "plot_components_plotly(m, forecast)"
      ],
      "metadata": {
        "id": "97HjOyBEJb5k"
      },
      "execution_count": null,
      "outputs": []
    }
  ]
}
